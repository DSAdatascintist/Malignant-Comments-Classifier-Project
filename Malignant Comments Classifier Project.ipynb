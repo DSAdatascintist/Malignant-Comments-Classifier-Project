{
 "cells": [
  {
   "cell_type": "markdown",
   "id": "70cbcff7",
   "metadata": {},
   "source": [
    "import all necessary libraries"
   ]
  },
  {
   "cell_type": "code",
   "execution_count": 1,
   "id": "ce44129d",
   "metadata": {},
   "outputs": [],
   "source": [
    "#import all libraries\n",
    "import pandas as pd\n",
    "import numpy as np\n",
    "import matplotlib.pyplot as plt\n",
    "import seaborn as sns\n",
    "import warnings\n",
    "warnings.filterwarnings('ignore')\n",
    "from sklearn.metrics import r2_score,mean_absolute_error,mean_squared_error\n",
    "from sklearn.linear_model import LogisticRegression,Lasso,LinearRegression\n",
    "from sklearn.neighbors import KNeighborsRegressor\n",
    "from sklearn.svm import SVR\n",
    "from sklearn.tree import DecisionTreeRegressor\n",
    "from sklearn.ensemble import AdaBoostRegressor,GradientBoostingRegressor\n",
    "from sklearn.preprocessing import LabelEncoder,StandardScaler\n",
    "from sklearn.model_selection import train_test_split,GridSearchCV\n",
    "from sklearn.decomposition import PCA\n",
    "from scipy.stats import zscore\n",
    "from sklearn.model_selection import cross_val_score"
   ]
  },
  {
   "cell_type": "markdown",
   "id": "349afb1c",
   "metadata": {},
   "source": [
    "lets extract the train and test data from excel file"
   ]
  },
  {
   "cell_type": "code",
   "execution_count": 2,
   "id": "2f2db0a6",
   "metadata": {
    "scrolled": true
   },
   "outputs": [
    {
     "data": {
      "text/html": [
       "<div>\n",
       "<style scoped>\n",
       "    .dataframe tbody tr th:only-of-type {\n",
       "        vertical-align: middle;\n",
       "    }\n",
       "\n",
       "    .dataframe tbody tr th {\n",
       "        vertical-align: top;\n",
       "    }\n",
       "\n",
       "    .dataframe thead th {\n",
       "        text-align: right;\n",
       "    }\n",
       "</style>\n",
       "<table border=\"1\" class=\"dataframe\">\n",
       "  <thead>\n",
       "    <tr style=\"text-align: right;\">\n",
       "      <th></th>\n",
       "      <th>id</th>\n",
       "      <th>comment_text</th>\n",
       "      <th>malignant</th>\n",
       "      <th>highly_malignant</th>\n",
       "      <th>rude</th>\n",
       "      <th>threat</th>\n",
       "      <th>abuse</th>\n",
       "      <th>loathe</th>\n",
       "    </tr>\n",
       "  </thead>\n",
       "  <tbody>\n",
       "    <tr>\n",
       "      <th>0</th>\n",
       "      <td>0000997932d777bf</td>\n",
       "      <td>Explanation\\nWhy the edits made under my usern...</td>\n",
       "      <td>0</td>\n",
       "      <td>0</td>\n",
       "      <td>0</td>\n",
       "      <td>0</td>\n",
       "      <td>0</td>\n",
       "      <td>0</td>\n",
       "    </tr>\n",
       "    <tr>\n",
       "      <th>1</th>\n",
       "      <td>000103f0d9cfb60f</td>\n",
       "      <td>D'aww! He matches this background colour I'm s...</td>\n",
       "      <td>0</td>\n",
       "      <td>0</td>\n",
       "      <td>0</td>\n",
       "      <td>0</td>\n",
       "      <td>0</td>\n",
       "      <td>0</td>\n",
       "    </tr>\n",
       "    <tr>\n",
       "      <th>2</th>\n",
       "      <td>000113f07ec002fd</td>\n",
       "      <td>Hey man, I'm really not trying to edit war. It...</td>\n",
       "      <td>0</td>\n",
       "      <td>0</td>\n",
       "      <td>0</td>\n",
       "      <td>0</td>\n",
       "      <td>0</td>\n",
       "      <td>0</td>\n",
       "    </tr>\n",
       "    <tr>\n",
       "      <th>3</th>\n",
       "      <td>0001b41b1c6bb37e</td>\n",
       "      <td>\"\\nMore\\nI can't make any real suggestions on ...</td>\n",
       "      <td>0</td>\n",
       "      <td>0</td>\n",
       "      <td>0</td>\n",
       "      <td>0</td>\n",
       "      <td>0</td>\n",
       "      <td>0</td>\n",
       "    </tr>\n",
       "    <tr>\n",
       "      <th>4</th>\n",
       "      <td>0001d958c54c6e35</td>\n",
       "      <td>You, sir, are my hero. Any chance you remember...</td>\n",
       "      <td>0</td>\n",
       "      <td>0</td>\n",
       "      <td>0</td>\n",
       "      <td>0</td>\n",
       "      <td>0</td>\n",
       "      <td>0</td>\n",
       "    </tr>\n",
       "  </tbody>\n",
       "</table>\n",
       "</div>"
      ],
      "text/plain": [
       "                 id                                       comment_text  \\\n",
       "0  0000997932d777bf  Explanation\\nWhy the edits made under my usern...   \n",
       "1  000103f0d9cfb60f  D'aww! He matches this background colour I'm s...   \n",
       "2  000113f07ec002fd  Hey man, I'm really not trying to edit war. It...   \n",
       "3  0001b41b1c6bb37e  \"\\nMore\\nI can't make any real suggestions on ...   \n",
       "4  0001d958c54c6e35  You, sir, are my hero. Any chance you remember...   \n",
       "\n",
       "   malignant  highly_malignant  rude  threat  abuse  loathe  \n",
       "0          0                 0     0       0      0       0  \n",
       "1          0                 0     0       0      0       0  \n",
       "2          0                 0     0       0      0       0  \n",
       "3          0                 0     0       0      0       0  \n",
       "4          0                 0     0       0      0       0  "
      ]
     },
     "execution_count": 2,
     "metadata": {},
     "output_type": "execute_result"
    }
   ],
   "source": [
    "train=pd.read_excel(\"C:\\\\Users\\\\SAI BABA\\\\Desktop\\\\train.xlsm\")\n",
    "train.head()"
   ]
  },
  {
   "cell_type": "code",
   "execution_count": 3,
   "id": "b01c238e",
   "metadata": {},
   "outputs": [
    {
     "data": {
      "text/html": [
       "<div>\n",
       "<style scoped>\n",
       "    .dataframe tbody tr th:only-of-type {\n",
       "        vertical-align: middle;\n",
       "    }\n",
       "\n",
       "    .dataframe tbody tr th {\n",
       "        vertical-align: top;\n",
       "    }\n",
       "\n",
       "    .dataframe thead th {\n",
       "        text-align: right;\n",
       "    }\n",
       "</style>\n",
       "<table border=\"1\" class=\"dataframe\">\n",
       "  <thead>\n",
       "    <tr style=\"text-align: right;\">\n",
       "      <th></th>\n",
       "      <th>id</th>\n",
       "      <th>comment_text</th>\n",
       "    </tr>\n",
       "  </thead>\n",
       "  <tbody>\n",
       "    <tr>\n",
       "      <th>0</th>\n",
       "      <td>00001cee341fdb12</td>\n",
       "      <td>Yo bitch Ja Rule is more succesful then you'll...</td>\n",
       "    </tr>\n",
       "    <tr>\n",
       "      <th>1</th>\n",
       "      <td>0000247867823ef7</td>\n",
       "      <td>== From RfC == \\n\\n The title is fine as it is...</td>\n",
       "    </tr>\n",
       "    <tr>\n",
       "      <th>2</th>\n",
       "      <td>00013b17ad220c46</td>\n",
       "      <td>\" \\n\\n == Sources == \\n\\n * Zawe Ashton on Lap...</td>\n",
       "    </tr>\n",
       "    <tr>\n",
       "      <th>3</th>\n",
       "      <td>00017563c3f7919a</td>\n",
       "      <td>:If you have a look back at the source, the in...</td>\n",
       "    </tr>\n",
       "    <tr>\n",
       "      <th>4</th>\n",
       "      <td>00017695ad8997eb</td>\n",
       "      <td>I don't anonymously edit articles at all.</td>\n",
       "    </tr>\n",
       "  </tbody>\n",
       "</table>\n",
       "</div>"
      ],
      "text/plain": [
       "                 id                                       comment_text\n",
       "0  00001cee341fdb12  Yo bitch Ja Rule is more succesful then you'll...\n",
       "1  0000247867823ef7  == From RfC == \\n\\n The title is fine as it is...\n",
       "2  00013b17ad220c46  \" \\n\\n == Sources == \\n\\n * Zawe Ashton on Lap...\n",
       "3  00017563c3f7919a  :If you have a look back at the source, the in...\n",
       "4  00017695ad8997eb          I don't anonymously edit articles at all."
      ]
     },
     "execution_count": 3,
     "metadata": {},
     "output_type": "execute_result"
    }
   ],
   "source": [
    "test=pd.read_excel(\"C:\\\\Users\\\\SAI BABA\\\\Desktop\\\\test.xlsm\")\n",
    "test.head()"
   ]
  },
  {
   "cell_type": "code",
   "execution_count": 4,
   "id": "3d861dc6",
   "metadata": {
    "scrolled": true
   },
   "outputs": [
    {
     "data": {
      "text/plain": [
       "(159571, 8)"
      ]
     },
     "execution_count": 4,
     "metadata": {},
     "output_type": "execute_result"
    }
   ],
   "source": [
    "train.shape"
   ]
  },
  {
   "cell_type": "markdown",
   "id": "ce64152d",
   "metadata": {},
   "source": [
    "so train data contain 159571 rows and 8 columns"
   ]
  },
  {
   "cell_type": "code",
   "execution_count": 5,
   "id": "1d27ed61",
   "metadata": {},
   "outputs": [
    {
     "data": {
      "text/plain": [
       "(153164, 2)"
      ]
     },
     "execution_count": 5,
     "metadata": {},
     "output_type": "execute_result"
    }
   ],
   "source": [
    "test.shape"
   ]
  },
  {
   "cell_type": "code",
   "execution_count": 6,
   "id": "ca09350b",
   "metadata": {
    "scrolled": true
   },
   "outputs": [
    {
     "name": "stdout",
     "output_type": "stream",
     "text": [
      "<class 'pandas.core.frame.DataFrame'>\n",
      "RangeIndex: 159571 entries, 0 to 159570\n",
      "Data columns (total 8 columns):\n",
      " #   Column            Non-Null Count   Dtype \n",
      "---  ------            --------------   ----- \n",
      " 0   id                159571 non-null  object\n",
      " 1   comment_text      159571 non-null  object\n",
      " 2   malignant         159571 non-null  int64 \n",
      " 3   highly_malignant  159571 non-null  int64 \n",
      " 4   rude              159571 non-null  int64 \n",
      " 5   threat            159571 non-null  int64 \n",
      " 6   abuse             159571 non-null  int64 \n",
      " 7   loathe            159571 non-null  int64 \n",
      "dtypes: int64(6), object(2)\n",
      "memory usage: 9.7+ MB\n"
     ]
    }
   ],
   "source": [
    "train.info()"
   ]
  },
  {
   "cell_type": "markdown",
   "id": "fe227963",
   "metadata": {},
   "source": [
    "data contains 2 object type of columns and 6 int type of data"
   ]
  },
  {
   "cell_type": "code",
   "execution_count": 7,
   "id": "fb83e304",
   "metadata": {
    "scrolled": true
   },
   "outputs": [
    {
     "name": "stdout",
     "output_type": "stream",
     "text": [
      "<class 'pandas.core.frame.DataFrame'>\n",
      "RangeIndex: 153164 entries, 0 to 153163\n",
      "Data columns (total 2 columns):\n",
      " #   Column        Non-Null Count   Dtype \n",
      "---  ------        --------------   ----- \n",
      " 0   id            153164 non-null  object\n",
      " 1   comment_text  153038 non-null  object\n",
      "dtypes: object(2)\n",
      "memory usage: 2.3+ MB\n"
     ]
    }
   ],
   "source": [
    "test.info()"
   ]
  },
  {
   "cell_type": "markdown",
   "id": "d4dd5153",
   "metadata": {},
   "source": [
    "# Encoding of dataframe"
   ]
  },
  {
   "cell_type": "markdown",
   "id": "ea88b81e",
   "metadata": {},
   "source": [
    "lets we will encode our dataset"
   ]
  },
  {
   "cell_type": "code",
   "execution_count": 8,
   "id": "86b7b80c",
   "metadata": {},
   "outputs": [],
   "source": [
    "from sklearn.preprocessing import OrdinalEncoder"
   ]
  },
  {
   "cell_type": "code",
   "execution_count": 9,
   "id": "4ef35164",
   "metadata": {},
   "outputs": [],
   "source": [
    "enc=OrdinalEncoder()"
   ]
  },
  {
   "cell_type": "code",
   "execution_count": 10,
   "id": "21e9cbe8",
   "metadata": {},
   "outputs": [],
   "source": [
    "from sklearn.preprocessing import LabelEncoder"
   ]
  },
  {
   "cell_type": "code",
   "execution_count": 11,
   "id": "3fb9f7ec",
   "metadata": {},
   "outputs": [],
   "source": [
    "from nltk.stem import WordNetLemmatizer\n",
    "import nltk\n",
    "from nltk.corpus import  stopwords\n",
    "import string"
   ]
  },
  {
   "cell_type": "code",
   "execution_count": 12,
   "id": "4987ebe4",
   "metadata": {},
   "outputs": [],
   "source": [
    "# Convert all messages to lower case\n",
    "train['comment_text'] = train['comment_text'].str.lower()\n",
    "\n",
    "# Replace email addresses with 'email'\n",
    "train['comment_text'] = train['comment_text'].str.replace(r'^.+@[^\\.].*\\.[a-z]{2,}$',\n",
    "                                 'emailaddress')\n",
    "\n",
    "# Replace URLs with 'webaddress'\n",
    "train['comment_text'] = train['comment_text'].str.replace(r'^http\\://[a-zA-Z0-9\\-\\.]+\\.[a-zA-Z]{2,3}(/\\S*)?$',\n",
    "                                  'webaddress')\n",
    "\n",
    "# Replace money symbols with 'moneysymb' (£ can by typed with ALT key + 156)\n",
    "train['comment_text'] = train['comment_text'].str.replace(r'£|\\$', 'dollers')\n",
    "    \n",
    "# Replace 10 digit phone numbers (formats include paranthesis, spaces, no spaces, dashes) with 'phonenumber'\n",
    "train['comment_text'] = train['comment_text'].str.replace(r'^\\(?[\\d]{3}\\)?[\\s-]?[\\d]{3}[\\s-]?[\\d]{4}$',\n",
    "                                  'phonenumber')\n",
    "\n",
    "    \n",
    "# Replace numbers with 'numbr'\n",
    "train['comment_text'] = train['comment_text'].str.replace(r'\\d+(\\.\\d+)?', 'numbr')"
   ]
  },
  {
   "cell_type": "code",
   "execution_count": 13,
   "id": "d284450e",
   "metadata": {},
   "outputs": [],
   "source": [
    "le=LabelEncoder()\n",
    "label=le.fit_transform(train[\"comment_text\"])\n",
    "label\n",
    "train=train.drop(\"comment_text\",axis='columns')\n",
    "train[\"comment_text\"]=label\n"
   ]
  },
  {
   "cell_type": "code",
   "execution_count": 14,
   "id": "5fe0ed1a",
   "metadata": {
    "scrolled": false
   },
   "outputs": [
    {
     "data": {
      "text/html": [
       "<div>\n",
       "<style scoped>\n",
       "    .dataframe tbody tr th:only-of-type {\n",
       "        vertical-align: middle;\n",
       "    }\n",
       "\n",
       "    .dataframe tbody tr th {\n",
       "        vertical-align: top;\n",
       "    }\n",
       "\n",
       "    .dataframe thead th {\n",
       "        text-align: right;\n",
       "    }\n",
       "</style>\n",
       "<table border=\"1\" class=\"dataframe\">\n",
       "  <thead>\n",
       "    <tr style=\"text-align: right;\">\n",
       "      <th></th>\n",
       "      <th>id</th>\n",
       "      <th>malignant</th>\n",
       "      <th>highly_malignant</th>\n",
       "      <th>rude</th>\n",
       "      <th>threat</th>\n",
       "      <th>abuse</th>\n",
       "      <th>loathe</th>\n",
       "      <th>comment_text</th>\n",
       "    </tr>\n",
       "  </thead>\n",
       "  <tbody>\n",
       "    <tr>\n",
       "      <th>0</th>\n",
       "      <td>0000997932d777bf</td>\n",
       "      <td>0</td>\n",
       "      <td>0</td>\n",
       "      <td>0</td>\n",
       "      <td>0</td>\n",
       "      <td>0</td>\n",
       "      <td>0</td>\n",
       "      <td>74031</td>\n",
       "    </tr>\n",
       "    <tr>\n",
       "      <th>1</th>\n",
       "      <td>000103f0d9cfb60f</td>\n",
       "      <td>0</td>\n",
       "      <td>0</td>\n",
       "      <td>0</td>\n",
       "      <td>0</td>\n",
       "      <td>0</td>\n",
       "      <td>0</td>\n",
       "      <td>69080</td>\n",
       "    </tr>\n",
       "    <tr>\n",
       "      <th>2</th>\n",
       "      <td>000113f07ec002fd</td>\n",
       "      <td>0</td>\n",
       "      <td>0</td>\n",
       "      <td>0</td>\n",
       "      <td>0</td>\n",
       "      <td>0</td>\n",
       "      <td>0</td>\n",
       "      <td>81840</td>\n",
       "    </tr>\n",
       "    <tr>\n",
       "      <th>3</th>\n",
       "      <td>0001b41b1c6bb37e</td>\n",
       "      <td>0</td>\n",
       "      <td>0</td>\n",
       "      <td>0</td>\n",
       "      <td>0</td>\n",
       "      <td>0</td>\n",
       "      <td>0</td>\n",
       "      <td>35592</td>\n",
       "    </tr>\n",
       "    <tr>\n",
       "      <th>4</th>\n",
       "      <td>0001d958c54c6e35</td>\n",
       "      <td>0</td>\n",
       "      <td>0</td>\n",
       "      <td>0</td>\n",
       "      <td>0</td>\n",
       "      <td>0</td>\n",
       "      <td>0</td>\n",
       "      <td>157171</td>\n",
       "    </tr>\n",
       "    <tr>\n",
       "      <th>...</th>\n",
       "      <td>...</td>\n",
       "      <td>...</td>\n",
       "      <td>...</td>\n",
       "      <td>...</td>\n",
       "      <td>...</td>\n",
       "      <td>...</td>\n",
       "      <td>...</td>\n",
       "      <td>...</td>\n",
       "    </tr>\n",
       "    <tr>\n",
       "      <th>159566</th>\n",
       "      <td>ffe987279560d7ff</td>\n",
       "      <td>0</td>\n",
       "      <td>0</td>\n",
       "      <td>0</td>\n",
       "      <td>0</td>\n",
       "      <td>0</td>\n",
       "      <td>0</td>\n",
       "      <td>44139</td>\n",
       "    </tr>\n",
       "    <tr>\n",
       "      <th>159567</th>\n",
       "      <td>ffea4adeee384e90</td>\n",
       "      <td>0</td>\n",
       "      <td>0</td>\n",
       "      <td>0</td>\n",
       "      <td>0</td>\n",
       "      <td>0</td>\n",
       "      <td>0</td>\n",
       "      <td>156286</td>\n",
       "    </tr>\n",
       "    <tr>\n",
       "      <th>159568</th>\n",
       "      <td>ffee36eab5c267c9</td>\n",
       "      <td>0</td>\n",
       "      <td>0</td>\n",
       "      <td>0</td>\n",
       "      <td>0</td>\n",
       "      <td>0</td>\n",
       "      <td>0</td>\n",
       "      <td>129924</td>\n",
       "    </tr>\n",
       "    <tr>\n",
       "      <th>159569</th>\n",
       "      <td>fff125370e4aaaf3</td>\n",
       "      <td>0</td>\n",
       "      <td>0</td>\n",
       "      <td>0</td>\n",
       "      <td>0</td>\n",
       "      <td>0</td>\n",
       "      <td>0</td>\n",
       "      <td>59267</td>\n",
       "    </tr>\n",
       "    <tr>\n",
       "      <th>159570</th>\n",
       "      <td>fff46fc426af1f9a</td>\n",
       "      <td>0</td>\n",
       "      <td>0</td>\n",
       "      <td>0</td>\n",
       "      <td>0</td>\n",
       "      <td>0</td>\n",
       "      <td>0</td>\n",
       "      <td>31080</td>\n",
       "    </tr>\n",
       "  </tbody>\n",
       "</table>\n",
       "<p>159571 rows × 8 columns</p>\n",
       "</div>"
      ],
      "text/plain": [
       "                      id  malignant  highly_malignant  rude  threat  abuse  \\\n",
       "0       0000997932d777bf          0                 0     0       0      0   \n",
       "1       000103f0d9cfb60f          0                 0     0       0      0   \n",
       "2       000113f07ec002fd          0                 0     0       0      0   \n",
       "3       0001b41b1c6bb37e          0                 0     0       0      0   \n",
       "4       0001d958c54c6e35          0                 0     0       0      0   \n",
       "...                  ...        ...               ...   ...     ...    ...   \n",
       "159566  ffe987279560d7ff          0                 0     0       0      0   \n",
       "159567  ffea4adeee384e90          0                 0     0       0      0   \n",
       "159568  ffee36eab5c267c9          0                 0     0       0      0   \n",
       "159569  fff125370e4aaaf3          0                 0     0       0      0   \n",
       "159570  fff46fc426af1f9a          0                 0     0       0      0   \n",
       "\n",
       "        loathe  comment_text  \n",
       "0            0         74031  \n",
       "1            0         69080  \n",
       "2            0         81840  \n",
       "3            0         35592  \n",
       "4            0        157171  \n",
       "...        ...           ...  \n",
       "159566       0         44139  \n",
       "159567       0        156286  \n",
       "159568       0        129924  \n",
       "159569       0         59267  \n",
       "159570       0         31080  \n",
       "\n",
       "[159571 rows x 8 columns]"
      ]
     },
     "execution_count": 14,
     "metadata": {},
     "output_type": "execute_result"
    }
   ],
   "source": [
    "train"
   ]
  },
  {
   "cell_type": "code",
   "execution_count": 15,
   "id": "f718ed41",
   "metadata": {},
   "outputs": [],
   "source": [
    "train.drop(['id'],axis=1,inplace=True)"
   ]
  },
  {
   "cell_type": "code",
   "execution_count": 16,
   "id": "55295c01",
   "metadata": {},
   "outputs": [
    {
     "data": {
      "text/plain": [
       "malignant           0\n",
       "highly_malignant    0\n",
       "rude                0\n",
       "threat              0\n",
       "abuse               0\n",
       "loathe              0\n",
       "comment_text        0\n",
       "dtype: int64"
      ]
     },
     "execution_count": 16,
     "metadata": {},
     "output_type": "execute_result"
    }
   ],
   "source": [
    "train.isnull().sum()"
   ]
  },
  {
   "cell_type": "code",
   "execution_count": 17,
   "id": "ca431c05",
   "metadata": {
    "scrolled": true
   },
   "outputs": [
    {
     "data": {
      "image/png": "[encoded data removed]",
      "text/plain": [
       "<Figure size 432x288 with 2 Axes>"
      ]
     },
     "metadata": {
      "needs_background": "light"
     },
     "output_type": "display_data"
    }
   ],
   "source": [
    "sns.heatmap(train.isnull())\n",
    "plt.title(\"Null values\")\n",
    "plt.show()"
   ]
  },
  {
   "cell_type": "markdown",
   "id": "3401cfb6",
   "metadata": {},
   "source": [
    "train data does not have any null values"
   ]
  },
  {
   "cell_type": "code",
   "execution_count": 18,
   "id": "724b174a",
   "metadata": {
    "scrolled": true
   },
   "outputs": [
    {
     "data": {
      "text/html": [
       "<div>\n",
       "<style scoped>\n",
       "    .dataframe tbody tr th:only-of-type {\n",
       "        vertical-align: middle;\n",
       "    }\n",
       "\n",
       "    .dataframe tbody tr th {\n",
       "        vertical-align: top;\n",
       "    }\n",
       "\n",
       "    .dataframe thead th {\n",
       "        text-align: right;\n",
       "    }\n",
       "</style>\n",
       "<table border=\"1\" class=\"dataframe\">\n",
       "  <thead>\n",
       "    <tr style=\"text-align: right;\">\n",
       "      <th></th>\n",
       "      <th>malignant</th>\n",
       "      <th>highly_malignant</th>\n",
       "      <th>rude</th>\n",
       "      <th>threat</th>\n",
       "      <th>abuse</th>\n",
       "      <th>loathe</th>\n",
       "      <th>comment_text</th>\n",
       "    </tr>\n",
       "  </thead>\n",
       "  <tbody>\n",
       "    <tr>\n",
       "      <th>count</th>\n",
       "      <td>159571.000000</td>\n",
       "      <td>159571.000000</td>\n",
       "      <td>159571.000000</td>\n",
       "      <td>159571.000000</td>\n",
       "      <td>159571.000000</td>\n",
       "      <td>159571.000000</td>\n",
       "      <td>159571.000000</td>\n",
       "    </tr>\n",
       "    <tr>\n",
       "      <th>mean</th>\n",
       "      <td>0.095844</td>\n",
       "      <td>0.009996</td>\n",
       "      <td>0.052948</td>\n",
       "      <td>0.002996</td>\n",
       "      <td>0.049364</td>\n",
       "      <td>0.008805</td>\n",
       "      <td>79688.965338</td>\n",
       "    </tr>\n",
       "    <tr>\n",
       "      <th>std</th>\n",
       "      <td>0.294379</td>\n",
       "      <td>0.099477</td>\n",
       "      <td>0.223931</td>\n",
       "      <td>0.054650</td>\n",
       "      <td>0.216627</td>\n",
       "      <td>0.093420</td>\n",
       "      <td>45990.152206</td>\n",
       "    </tr>\n",
       "    <tr>\n",
       "      <th>min</th>\n",
       "      <td>0.000000</td>\n",
       "      <td>0.000000</td>\n",
       "      <td>0.000000</td>\n",
       "      <td>0.000000</td>\n",
       "      <td>0.000000</td>\n",
       "      <td>0.000000</td>\n",
       "      <td>0.000000</td>\n",
       "    </tr>\n",
       "    <tr>\n",
       "      <th>25%</th>\n",
       "      <td>0.000000</td>\n",
       "      <td>0.000000</td>\n",
       "      <td>0.000000</td>\n",
       "      <td>0.000000</td>\n",
       "      <td>0.000000</td>\n",
       "      <td>0.000000</td>\n",
       "      <td>39864.500000</td>\n",
       "    </tr>\n",
       "    <tr>\n",
       "      <th>50%</th>\n",
       "      <td>0.000000</td>\n",
       "      <td>0.000000</td>\n",
       "      <td>0.000000</td>\n",
       "      <td>0.000000</td>\n",
       "      <td>0.000000</td>\n",
       "      <td>0.000000</td>\n",
       "      <td>79705.000000</td>\n",
       "    </tr>\n",
       "    <tr>\n",
       "      <th>75%</th>\n",
       "      <td>0.000000</td>\n",
       "      <td>0.000000</td>\n",
       "      <td>0.000000</td>\n",
       "      <td>0.000000</td>\n",
       "      <td>0.000000</td>\n",
       "      <td>0.000000</td>\n",
       "      <td>119491.500000</td>\n",
       "    </tr>\n",
       "    <tr>\n",
       "      <th>max</th>\n",
       "      <td>1.000000</td>\n",
       "      <td>1.000000</td>\n",
       "      <td>1.000000</td>\n",
       "      <td>1.000000</td>\n",
       "      <td>1.000000</td>\n",
       "      <td>1.000000</td>\n",
       "      <td>159159.000000</td>\n",
       "    </tr>\n",
       "  </tbody>\n",
       "</table>\n",
       "</div>"
      ],
      "text/plain": [
       "           malignant  highly_malignant           rude         threat  \\\n",
       "count  159571.000000     159571.000000  159571.000000  159571.000000   \n",
       "mean        0.095844          0.009996       0.052948       0.002996   \n",
       "std         0.294379          0.099477       0.223931       0.054650   \n",
       "min         0.000000          0.000000       0.000000       0.000000   \n",
       "25%         0.000000          0.000000       0.000000       0.000000   \n",
       "50%         0.000000          0.000000       0.000000       0.000000   \n",
       "75%         0.000000          0.000000       0.000000       0.000000   \n",
       "max         1.000000          1.000000       1.000000       1.000000   \n",
       "\n",
       "               abuse         loathe   comment_text  \n",
       "count  159571.000000  159571.000000  159571.000000  \n",
       "mean        0.049364       0.008805   79688.965338  \n",
       "std         0.216627       0.093420   45990.152206  \n",
       "min         0.000000       0.000000       0.000000  \n",
       "25%         0.000000       0.000000   39864.500000  \n",
       "50%         0.000000       0.000000   79705.000000  \n",
       "75%         0.000000       0.000000  119491.500000  \n",
       "max         1.000000       1.000000  159159.000000  "
      ]
     },
     "execution_count": 18,
     "metadata": {},
     "output_type": "execute_result"
    }
   ],
   "source": [
    "train.describe()"
   ]
  },
  {
   "cell_type": "markdown",
   "id": "c579b39b",
   "metadata": {},
   "source": [
    "it gives total count,mean,std,mini to max range of each column which is shown in above table"
   ]
  },
  {
   "cell_type": "code",
   "execution_count": 19,
   "id": "e75f159b",
   "metadata": {},
   "outputs": [
    {
     "data": {
      "text/html": [
       "<div>\n",
       "<style scoped>\n",
       "    .dataframe tbody tr th:only-of-type {\n",
       "        vertical-align: middle;\n",
       "    }\n",
       "\n",
       "    .dataframe tbody tr th {\n",
       "        vertical-align: top;\n",
       "    }\n",
       "\n",
       "    .dataframe thead th {\n",
       "        text-align: right;\n",
       "    }\n",
       "</style>\n",
       "<table border=\"1\" class=\"dataframe\">\n",
       "  <thead>\n",
       "    <tr style=\"text-align: right;\">\n",
       "      <th></th>\n",
       "      <th>malignant</th>\n",
       "      <th>highly_malignant</th>\n",
       "      <th>rude</th>\n",
       "      <th>threat</th>\n",
       "      <th>abuse</th>\n",
       "      <th>loathe</th>\n",
       "      <th>comment_text</th>\n",
       "    </tr>\n",
       "  </thead>\n",
       "  <tbody>\n",
       "    <tr>\n",
       "      <th>malignant</th>\n",
       "      <td>1.000000</td>\n",
       "      <td>0.308619</td>\n",
       "      <td>0.676515</td>\n",
       "      <td>0.157058</td>\n",
       "      <td>0.647518</td>\n",
       "      <td>0.266009</td>\n",
       "      <td>0.103724</td>\n",
       "    </tr>\n",
       "    <tr>\n",
       "      <th>highly_malignant</th>\n",
       "      <td>0.308619</td>\n",
       "      <td>1.000000</td>\n",
       "      <td>0.403014</td>\n",
       "      <td>0.123601</td>\n",
       "      <td>0.375807</td>\n",
       "      <td>0.201600</td>\n",
       "      <td>0.039877</td>\n",
       "    </tr>\n",
       "    <tr>\n",
       "      <th>rude</th>\n",
       "      <td>0.676515</td>\n",
       "      <td>0.403014</td>\n",
       "      <td>1.000000</td>\n",
       "      <td>0.141179</td>\n",
       "      <td>0.741272</td>\n",
       "      <td>0.286867</td>\n",
       "      <td>0.075431</td>\n",
       "    </tr>\n",
       "    <tr>\n",
       "      <th>threat</th>\n",
       "      <td>0.157058</td>\n",
       "      <td>0.123601</td>\n",
       "      <td>0.141179</td>\n",
       "      <td>1.000000</td>\n",
       "      <td>0.150022</td>\n",
       "      <td>0.115128</td>\n",
       "      <td>0.021269</td>\n",
       "    </tr>\n",
       "    <tr>\n",
       "      <th>abuse</th>\n",
       "      <td>0.647518</td>\n",
       "      <td>0.375807</td>\n",
       "      <td>0.741272</td>\n",
       "      <td>0.150022</td>\n",
       "      <td>1.000000</td>\n",
       "      <td>0.337736</td>\n",
       "      <td>0.087155</td>\n",
       "    </tr>\n",
       "    <tr>\n",
       "      <th>loathe</th>\n",
       "      <td>0.266009</td>\n",
       "      <td>0.201600</td>\n",
       "      <td>0.286867</td>\n",
       "      <td>0.115128</td>\n",
       "      <td>0.337736</td>\n",
       "      <td>1.000000</td>\n",
       "      <td>0.034670</td>\n",
       "    </tr>\n",
       "    <tr>\n",
       "      <th>comment_text</th>\n",
       "      <td>0.103724</td>\n",
       "      <td>0.039877</td>\n",
       "      <td>0.075431</td>\n",
       "      <td>0.021269</td>\n",
       "      <td>0.087155</td>\n",
       "      <td>0.034670</td>\n",
       "      <td>1.000000</td>\n",
       "    </tr>\n",
       "  </tbody>\n",
       "</table>\n",
       "</div>"
      ],
      "text/plain": [
       "                  malignant  highly_malignant      rude    threat     abuse  \\\n",
       "malignant          1.000000          0.308619  0.676515  0.157058  0.647518   \n",
       "highly_malignant   0.308619          1.000000  0.403014  0.123601  0.375807   \n",
       "rude               0.676515          0.403014  1.000000  0.141179  0.741272   \n",
       "threat             0.157058          0.123601  0.141179  1.000000  0.150022   \n",
       "abuse              0.647518          0.375807  0.741272  0.150022  1.000000   \n",
       "loathe             0.266009          0.201600  0.286867  0.115128  0.337736   \n",
       "comment_text       0.103724          0.039877  0.075431  0.021269  0.087155   \n",
       "\n",
       "                    loathe  comment_text  \n",
       "malignant         0.266009      0.103724  \n",
       "highly_malignant  0.201600      0.039877  \n",
       "rude              0.286867      0.075431  \n",
       "threat            0.115128      0.021269  \n",
       "abuse             0.337736      0.087155  \n",
       "loathe            1.000000      0.034670  \n",
       "comment_text      0.034670      1.000000  "
      ]
     },
     "execution_count": 19,
     "metadata": {},
     "output_type": "execute_result"
    }
   ],
   "source": [
    "train.corr()"
   ]
  },
  {
   "cell_type": "code",
   "execution_count": 20,
   "id": "a9e24264",
   "metadata": {
    "scrolled": true
   },
   "outputs": [
    {
     "data": {
      "text/plain": [
       "<AxesSubplot:>"
      ]
     },
     "execution_count": 20,
     "metadata": {},
     "output_type": "execute_result"
    },
    {
     "data": {
      "image/png": "[encoded data removed]",
      "text/plain": [
       "<Figure size 1584x504 with 2 Axes>"
      ]
     },
     "metadata": {
      "needs_background": "light"
     },
     "output_type": "display_data"
    }
   ],
   "source": [
    "#heat map\n",
    "plt.figure(figsize=(22,7))\n",
    "sns.heatmap(train.corr(),annot=True,linewidths=0.1,linecolor='black',fmt='0.2f')"
   ]
  },
  {
   "cell_type": "markdown",
   "id": "4466f271",
   "metadata": {},
   "source": [
    "it shows the correlation of each column with its own and with another column it also gives the positive and negative correlation of each column"
   ]
  },
  {
   "cell_type": "code",
   "execution_count": 21,
   "id": "1e5715f1",
   "metadata": {},
   "outputs": [
    {
     "data": {
      "text/plain": [
       "malignant            2.745854\n",
       "highly_malignant     9.851722\n",
       "rude                 3.992817\n",
       "threat              18.189001\n",
       "abuse                4.160540\n",
       "loathe              10.515923\n",
       "comment_text        -0.000881\n",
       "dtype: float64"
      ]
     },
     "execution_count": 21,
     "metadata": {},
     "output_type": "execute_result"
    }
   ],
   "source": [
    "# checking the skewness for the features:\n",
    "train.skew()"
   ]
  },
  {
   "cell_type": "code",
   "execution_count": 22,
   "id": "b19f99bb",
   "metadata": {
    "scrolled": true
   },
   "outputs": [
    {
     "data": {
      "text/plain": [
       "malignant               AxesSubplot(0.125,0.71587;0.227941x0.16413)\n",
       "highly_malignant     AxesSubplot(0.398529,0.71587;0.227941x0.16413)\n",
       "rude                 AxesSubplot(0.672059,0.71587;0.227941x0.16413)\n",
       "threat                 AxesSubplot(0.125,0.518913;0.227941x0.16413)\n",
       "abuse               AxesSubplot(0.398529,0.518913;0.227941x0.16413)\n",
       "loathe              AxesSubplot(0.672059,0.518913;0.227941x0.16413)\n",
       "comment_text           AxesSubplot(0.125,0.321957;0.227941x0.16413)\n",
       "dtype: object"
      ]
     },
     "execution_count": 22,
     "metadata": {},
     "output_type": "execute_result"
    },
    {
     "data": {
      "image/png": "[encoded data removed]",
      "text/plain": [
       "<Figure size 1080x720 with 12 Axes>"
      ]
     },
     "metadata": {
      "needs_background": "light"
     },
     "output_type": "display_data"
    }
   ],
   "source": [
    "#plotting the boxplot of each column to check the outliers \n",
    "train.plot(kind='box',subplots = True,layout=(4,3),figsize = (15,10))"
   ]
  },
  {
   "cell_type": "code",
   "execution_count": 23,
   "id": "2f3dba0b",
   "metadata": {},
   "outputs": [
    {
     "name": "stdout",
     "output_type": "stream",
     "text": [
      "[[0.3255832  0.10048119 0.23644972 ... 0.22787476 0.09425005 0.12302597]\n",
      " [0.3255832  0.10048119 0.23644972 ... 0.22787476 0.09425005 0.23067979]\n",
      " [0.3255832  0.10048119 0.23644972 ... 0.22787476 0.09425005 0.04677178]\n",
      " ...\n",
      " [0.3255832  0.10048119 0.23644972 ... 0.22787476 0.09425005 1.09230324]\n",
      " [0.3255832  0.10048119 0.23644972 ... 0.22787476 0.09425005 0.44405222]\n",
      " [0.3255832  0.10048119 0.23644972 ... 0.22787476 0.09425005 1.05694622]]\n"
     ]
    }
   ],
   "source": [
    "#calculate the zscore\n",
    "z = np.abs(zscore(train))\n",
    "print(z)"
   ]
  },
  {
   "cell_type": "code",
   "execution_count": 24,
   "id": "93118abc",
   "metadata": {},
   "outputs": [
    {
     "name": "stdout",
     "output_type": "stream",
     "text": [
      "(array([     0,      0,      0, ..., 159570, 159570, 159570], dtype=int64), array([0, 1, 2, ..., 4, 5, 6], dtype=int64))\n",
      "(159571, 7)\n"
     ]
    }
   ],
   "source": [
    "threshold=3\n",
    "print(np.where(z<3))\n",
    "print(train.shape)"
   ]
  },
  {
   "cell_type": "code",
   "execution_count": 27,
   "id": "dfaacde0",
   "metadata": {},
   "outputs": [
    {
     "data": {
      "text/plain": [
       "malignant            2.745854\n",
       "highly_malignant     9.851722\n",
       "rude                 3.992817\n",
       "threat              18.189001\n",
       "abuse                4.160540\n",
       "loathe              10.515923\n",
       "comment_text        -0.000881\n",
       "dtype: float64"
      ]
     },
     "execution_count": 27,
     "metadata": {},
     "output_type": "execute_result"
    }
   ],
   "source": [
    "train.skew()"
   ]
  },
  {
   "cell_type": "code",
   "execution_count": 28,
   "id": "b497f861",
   "metadata": {},
   "outputs": [],
   "source": [
    "#remove skewness\n",
    "train['malignant']=np.sqrt(train['malignant'])\n",
    "train['highly_malignant']=np.sqrt(train['highly_malignant'])\n",
    "train['rude']=np.sqrt(train['rude'])\n",
    "train['threat']=np.sqrt(train['threat'])\n",
    "train['abuse']=np.sqrt(train['abuse'])\n",
    "train['loathe']=np.sqrt(train['loathe'])\n",
    "\n"
   ]
  },
  {
   "cell_type": "code",
   "execution_count": 29,
   "id": "ae6429ff",
   "metadata": {},
   "outputs": [
    {
     "data": {
      "text/plain": [
       "(159571, 7)"
      ]
     },
     "execution_count": 29,
     "metadata": {},
     "output_type": "execute_result"
    }
   ],
   "source": [
    "train.shape"
   ]
  },
  {
   "cell_type": "code",
   "execution_count": 30,
   "id": "fcbd6efe",
   "metadata": {
    "scrolled": true
   },
   "outputs": [
    {
     "name": "stdout",
     "output_type": "stream",
     "text": [
      "<class 'pandas.core.frame.DataFrame'>\n",
      "RangeIndex: 159571 entries, 0 to 159570\n",
      "Data columns (total 7 columns):\n",
      " #   Column            Non-Null Count   Dtype  \n",
      "---  ------            --------------   -----  \n",
      " 0   malignant         159571 non-null  float64\n",
      " 1   highly_malignant  159571 non-null  float64\n",
      " 2   rude              159571 non-null  float64\n",
      " 3   threat            159571 non-null  float64\n",
      " 4   abuse             159571 non-null  float64\n",
      " 5   loathe            159571 non-null  float64\n",
      " 6   comment_text      159571 non-null  int32  \n",
      "dtypes: float64(6), int32(1)\n",
      "memory usage: 7.9 MB\n"
     ]
    }
   ],
   "source": [
    "train.info()"
   ]
  },
  {
   "cell_type": "code",
   "execution_count": 31,
   "id": "e0c8d366",
   "metadata": {},
   "outputs": [
    {
     "name": "stdout",
     "output_type": "stream",
     "text": [
      "malignant\n",
      "\n",
      "\n",
      "0.0    144277\n",
      "1.0     15294\n",
      "Name: malignant, dtype: int64\n"
     ]
    },
    {
     "data": {
      "image/png": "[encoded data removed]",
      "text/plain": [
       "<Figure size 432x288 with 1 Axes>"
      ]
     },
     "metadata": {
      "needs_background": "light"
     },
     "output_type": "display_data"
    },
    {
     "name": "stdout",
     "output_type": "stream",
     "text": [
      "highly_malignant\n",
      "\n",
      "\n",
      "0.0    157976\n",
      "1.0      1595\n",
      "Name: highly_malignant, dtype: int64\n"
     ]
    },
    {
     "data": {
      "image/png": "[encoded data removed]",
      "text/plain": [
       "<Figure size 432x288 with 1 Axes>"
      ]
     },
     "metadata": {
      "needs_background": "light"
     },
     "output_type": "display_data"
    },
    {
     "name": "stdout",
     "output_type": "stream",
     "text": [
      "loathe\n",
      "\n",
      "\n",
      "0.0    158166\n",
      "1.0      1405\n",
      "Name: loathe, dtype: int64\n"
     ]
    },
    {
     "data": {
      "image/png": "[encoded data removed]",
      "text/plain": [
       "<Figure size 432x288 with 1 Axes>"
      ]
     },
     "metadata": {
      "needs_background": "light"
     },
     "output_type": "display_data"
    },
    {
     "name": "stdout",
     "output_type": "stream",
     "text": [
      "rude\n",
      "\n",
      "\n",
      "0.0    151122\n",
      "1.0      8449\n",
      "Name: rude, dtype: int64\n"
     ]
    },
    {
     "data": {
      "image/png": "[encoded data removed]",
      "text/plain": [
       "<Figure size 432x288 with 1 Axes>"
      ]
     },
     "metadata": {
      "needs_background": "light"
     },
     "output_type": "display_data"
    },
    {
     "name": "stdout",
     "output_type": "stream",
     "text": [
      "abuse\n",
      "\n",
      "\n",
      "0.0    151694\n",
      "1.0      7877\n",
      "Name: abuse, dtype: int64\n"
     ]
    },
    {
     "data": {
      "image/png": "[encoded data removed]",
      "text/plain": [
       "<Figure size 432x288 with 1 Axes>"
      ]
     },
     "metadata": {
      "needs_background": "light"
     },
     "output_type": "display_data"
    },
    {
     "name": "stdout",
     "output_type": "stream",
     "text": [
      "threat\n",
      "\n",
      "\n",
      "0.0    159093\n",
      "1.0       478\n",
      "Name: threat, dtype: int64\n"
     ]
    },
    {
     "data": {
      "image/png": "[encoded data removed]",
      "text/plain": [
       "<Figure size 432x288 with 1 Axes>"
      ]
     },
     "metadata": {
      "needs_background": "light"
     },
     "output_type": "display_data"
    }
   ],
   "source": [
    "#detail insights of each column\n",
    "col=['malignant','highly_malignant','loathe','rude','abuse','threat']\n",
    "for i in col:\n",
    "    print(i)\n",
    "    print(\"\\n\")\n",
    "    print(train[i].value_counts())\n",
    "    sns.countplot(train[i])\n",
    "    plt.show()"
   ]
  },
  {
   "cell_type": "code",
   "execution_count": 32,
   "id": "b7486c6e",
   "metadata": {},
   "outputs": [
    {
     "data": {
      "text/plain": [
       "<matplotlib.legend.Legend at 0x2d30d56ad60>"
      ]
     },
     "execution_count": 32,
     "metadata": {},
     "output_type": "execute_result"
    },
    {
     "data": {
      "image/png": "[encoded data removed]",
      "text/plain": [
       "<Figure size 360x360 with 1 Axes>"
      ]
     },
     "metadata": {},
     "output_type": "display_data"
    }
   ],
   "source": [
    "#Label distribution over comments\n",
    "cols_target = ['malignant','highly_malignant','rude','threat','abuse','loathe']\n",
    "df_distribution = train[cols_target].sum()\\\n",
    "                            .to_frame()\\\n",
    "                            .rename(columns={0: 'count'})\\\n",
    "                            .sort_values('count')\n",
    "\n",
    "df_distribution.plot.pie(y='count',\n",
    "                                      title='Label distribution over comments',\n",
    "                                      figsize=(5, 5))\\\n",
    "                            .legend(loc='center left', bbox_to_anchor=(1.3, 0.5))"
   ]
  },
  {
   "cell_type": "code",
   "execution_count": 33,
   "id": "d3033a5f",
   "metadata": {},
   "outputs": [
    {
     "name": "stdout",
     "output_type": "stream",
     "text": [
      "0.0    143346\n",
      "1.0      6360\n",
      "3.0      4209\n",
      "2.0      3480\n",
      "4.0      1760\n",
      "5.0       385\n",
      "6.0        31\n",
      "Name: bad, dtype: int64\n",
      "0    143346\n",
      "1     16225\n",
      "Name: bad, dtype: int64\n"
     ]
    }
   ],
   "source": [
    "target_data = train[cols_target]\n",
    "\n",
    "train['bad'] =train[cols_target].sum(axis =1)\n",
    "print(train['bad'].value_counts())\n",
    "train['bad'] = train['bad'] > 0 \n",
    "train['bad'] = train['bad'].astype(int)\n",
    "print(train['bad'].value_counts())"
   ]
  },
  {
   "cell_type": "code",
   "execution_count": 34,
   "id": "f51b6e4c",
   "metadata": {},
   "outputs": [
    {
     "data": {
      "text/plain": [
       "array([[<AxesSubplot:title={'center':'malignant'}>,\n",
       "        <AxesSubplot:title={'center':'highly_malignant'}>],\n",
       "       [<AxesSubplot:title={'center':'rude'}>,\n",
       "        <AxesSubplot:title={'center':'threat'}>],\n",
       "       [<AxesSubplot:title={'center':'abuse'}>,\n",
       "        <AxesSubplot:title={'center':'loathe'}>],\n",
       "       [<AxesSubplot:title={'center':'comment_text'}>,\n",
       "        <AxesSubplot:title={'center':'bad'}>]], dtype=object)"
      ]
     },
     "execution_count": 34,
     "metadata": {},
     "output_type": "execute_result"
    },
    {
     "data": {
      "image/png": "[encoded data removed]",
      "text/plain": [
       "<Figure size 1440x1440 with 8 Axes>"
      ]
     },
     "metadata": {
      "needs_background": "light"
     },
     "output_type": "display_data"
    }
   ],
   "source": [
    "#plotting histogram for univariate analysis and checking the Normal Distribution\n",
    "train.hist(figsize=(20,20), grid = True, layout = (4,2), bins = 30)"
   ]
  },
  {
   "cell_type": "code",
   "execution_count": 35,
   "id": "002e5f1f",
   "metadata": {},
   "outputs": [
    {
     "name": "stdout",
     "output_type": "stream",
     "text": [
      "(159571, 7)\n",
      "(159571, 1)\n"
     ]
    }
   ],
   "source": [
    "#assign the value of x and y for training and testing phase\n",
    "x = train.drop(columns=['malignant'])\n",
    "y = train[[\"malignant\"]]\n",
    "print(x.shape)\n",
    "print(y.shape)"
   ]
  },
  {
   "cell_type": "code",
   "execution_count": 36,
   "id": "462f8b43",
   "metadata": {},
   "outputs": [],
   "source": [
    "#Standardize the value of x so that mean will 0 and SD will become 1 , and make the data as normal distributed\n",
    "sc = StandardScaler()\n",
    "sc.fit_transform(x)\n",
    "x = pd.DataFrame(x,columns=x.columns)"
   ]
  },
  {
   "cell_type": "code",
   "execution_count": 37,
   "id": "f3c607a4",
   "metadata": {},
   "outputs": [
    {
     "name": "stdout",
     "output_type": "stream",
     "text": [
      "R2 score correspond to random state  1 is 0.8937412823857371\n",
      "R2 score correspond to random state  1 is 0.11048987250326259\n",
      "R2 score correspond to random state  1 is 0.9437754922537797\n",
      "R2 score correspond to random state  1 is 0.9437807328236903\n",
      "R2 score correspond to random state  1 is 0.9483028722815415\n",
      "R2 score correspond to random state  2 is 0.8935784537825258\n",
      "R2 score correspond to random state  2 is 0.10982284724960845\n",
      "R2 score correspond to random state  2 is 0.9392147835959335\n",
      "R2 score correspond to random state  2 is 0.9387140136044054\n",
      "R2 score correspond to random state  2 is 0.9446356967626988\n",
      "R2 score correspond to random state  3 is 0.887702178752703\n",
      "R2 score correspond to random state  3 is 0.12019705864869645\n",
      "R2 score correspond to random state  3 is 0.9381843819730348\n",
      "R2 score correspond to random state  3 is 0.9378268414840527\n",
      "R2 score correspond to random state  3 is 0.9436528598040572\n",
      "R2 score correspond to random state  4 is 0.8922194254112009\n",
      "R2 score correspond to random state  4 is 0.1223427811234088\n",
      "R2 score correspond to random state  4 is 0.9359968701142449\n",
      "R2 score correspond to random state  4 is 0.9362438281079593\n",
      "R2 score correspond to random state  4 is 0.940674648651162\n",
      "R2 score correspond to random state  5 is 0.8836831183043582\n",
      "R2 score correspond to random state  5 is 0.11373805953026894\n",
      "R2 score correspond to random state  5 is 0.9361941474273853\n",
      "R2 score correspond to random state  5 is 0.935423585940765\n",
      "R2 score correspond to random state  5 is 0.9410598991466346\n",
      "R2 score correspond to random state  6 is 0.8953313674544319\n",
      "R2 score correspond to random state  6 is 0.12386339120707412\n",
      "R2 score correspond to random state  6 is 0.9343894440628879\n",
      "R2 score correspond to random state  6 is 0.9344313486129016\n",
      "R2 score correspond to random state  6 is 0.9402555864714458\n",
      "R2 score correspond to random state  7 is 0.8893591468308513\n",
      "R2 score correspond to random state  7 is 0.10736155780462364\n",
      "R2 score correspond to random state  7 is 0.9386488965133393\n",
      "R2 score correspond to random state  7 is 0.939253640837655\n",
      "R2 score correspond to random state  7 is 0.9436133508117166\n",
      "R2 score correspond to random state  8 is 0.8872111331075647\n",
      "R2 score correspond to random state  8 is 0.10775607117144848\n",
      "R2 score correspond to random state  8 is 0.9375166279946556\n",
      "R2 score correspond to random state  8 is 0.9365602438014282\n",
      "R2 score correspond to random state  8 is 0.9421183379717956\n",
      "R2 score correspond to random state  9 is 0.8998341470932046\n",
      "R2 score correspond to random state  9 is 0.11295040011426427\n",
      "R2 score correspond to random state  9 is 0.9410341827891187\n",
      "R2 score correspond to random state  9 is 0.9407526713961963\n",
      "R2 score correspond to random state  9 is 0.9456791928203221\n",
      "R2 score correspond to random state  10 is 0.9002148662427241\n",
      "R2 score correspond to random state  10 is 0.11281160767929166\n",
      "R2 score correspond to random state  10 is 0.9417697468871437\n",
      "R2 score correspond to random state  10 is 0.9417064286207835\n",
      "R2 score correspond to random state  10 is 0.9460802320622802\n",
      "R2 score correspond to random state  11 is 0.8921932242850994\n",
      "R2 score correspond to random state  11 is 0.12029671016641064\n",
      "R2 score correspond to random state  11 is 0.9424128164838402\n",
      "R2 score correspond to random state  11 is 0.9436337450636793\n",
      "R2 score correspond to random state  11 is 0.94848593745746\n",
      "R2 score correspond to random state  12 is 0.8944916316716407\n",
      "R2 score correspond to random state  12 is 0.12406184205511328\n",
      "R2 score correspond to random state  12 is 0.9413500069776064\n",
      "R2 score correspond to random state  12 is 0.941527465496074\n",
      "R2 score correspond to random state  12 is 0.9465612145668398\n",
      "R2 score correspond to random state  13 is 0.8954240861917793\n",
      "R2 score correspond to random state  13 is 0.1186673192415918\n",
      "R2 score correspond to random state  13 is 0.9394114583943132\n",
      "R2 score correspond to random state  13 is 0.9388583583385276\n",
      "R2 score correspond to random state  13 is 0.9440240292515232\n",
      "R2 score correspond to random state  14 is 0.8807236778219583\n",
      "R2 score correspond to random state  14 is 0.09614238073821157\n",
      "R2 score correspond to random state  14 is 0.9362465775090746\n",
      "R2 score correspond to random state  14 is 0.9350534843206593\n",
      "R2 score correspond to random state  14 is 0.9405845596896794\n",
      "R2 score correspond to random state  15 is 0.8925725202558961\n",
      "R2 score correspond to random state  15 is 0.1234891499722991\n",
      "R2 score correspond to random state  15 is 0.9369895597942219\n",
      "R2 score correspond to random state  15 is 0.936944736743114\n",
      "R2 score correspond to random state  15 is 0.9421146348094024\n",
      "R2 score correspond to random state  16 is 0.8831467814047068\n",
      "R2 score correspond to random state  16 is 0.10848148490480836\n",
      "R2 score correspond to random state  16 is 0.9327407951570099\n",
      "R2 score correspond to random state  16 is 0.9320691805375946\n",
      "R2 score correspond to random state  16 is 0.9371827622637046\n",
      "R2 score correspond to random state  17 is 0.8938790796192984\n",
      "R2 score correspond to random state  17 is 0.11664104122760954\n",
      "R2 score correspond to random state  17 is 0.9324599196208072\n",
      "R2 score correspond to random state  17 is 0.9324454109986018\n",
      "R2 score correspond to random state  17 is 0.938648977095451\n",
      "R2 score correspond to random state  18 is 0.8893377253814146\n",
      "R2 score correspond to random state  18 is 0.11758082157797956\n",
      "R2 score correspond to random state  18 is 0.938819442804375\n",
      "R2 score correspond to random state  18 is 0.9387926538998089\n",
      "R2 score correspond to random state  18 is 0.9441765818239067\n",
      "R2 score correspond to random state  19 is 0.8943197950278361\n",
      "R2 score correspond to random state  19 is 0.11808640111136504\n",
      "R2 score correspond to random state  19 is 0.9314922441914436\n",
      "R2 score correspond to random state  19 is 0.9304205915167443\n",
      "R2 score correspond to random state  19 is 0.9366484302392525\n",
      "R2 score correspond to random state  20 is 0.8860786083314248\n",
      "R2 score correspond to random state  20 is 0.12204580820751376\n",
      "R2 score correspond to random state  20 is 0.9373190495572365\n",
      "R2 score correspond to random state  20 is 0.9365214578683073\n",
      "R2 score correspond to random state  20 is 0.9427543462723318\n",
      "R2 score correspond to random state  21 is 0.8984624359282938\n",
      "R2 score correspond to random state  21 is 0.11071118292842996\n",
      "R2 score correspond to random state  21 is 0.939024309098088\n",
      "R2 score correspond to random state  21 is 0.9389147990705392\n",
      "R2 score correspond to random state  21 is 0.944635896717838\n",
      "R2 score correspond to random state  22 is 0.891585873714815\n",
      "R2 score correspond to random state  22 is 0.12036639257246706\n",
      "R2 score correspond to random state  22 is 0.9377748236879987\n",
      "R2 score correspond to random state  22 is 0.9378652406730434\n",
      "R2 score correspond to random state  22 is 0.9438856597752161\n",
      "R2 score correspond to random state  23 is 0.8898300719634615\n",
      "R2 score correspond to random state  23 is 0.12033915249574889\n",
      "R2 score correspond to random state  23 is 0.9440316026416984\n",
      "R2 score correspond to random state  23 is 0.9438553192690619\n",
      "R2 score correspond to random state  23 is 0.9483272726726484\n",
      "R2 score correspond to random state  24 is 0.8859477643356736\n",
      "R2 score correspond to random state  24 is 0.11663224497576219\n",
      "R2 score correspond to random state  24 is 0.9348321641173928\n",
      "R2 score correspond to random state  24 is 0.9344281940648742\n",
      "R2 score correspond to random state  24 is 0.941006776784995\n",
      "R2 score correspond to random state  25 is 0.8955989294568344\n",
      "R2 score correspond to random state  25 is 0.12201423179385817\n",
      "R2 score correspond to random state  25 is 0.9353025530714715\n",
      "R2 score correspond to random state  25 is 0.9352933277704303\n",
      "R2 score correspond to random state  25 is 0.9417589826743512\n",
      "R2 score correspond to random state  26 is 0.8970613749305824\n",
      "R2 score correspond to random state  26 is 0.11894196870203777\n",
      "R2 score correspond to random state  26 is 0.9364199939998037\n",
      "R2 score correspond to random state  26 is 0.9361655819800689\n",
      "R2 score correspond to random state  26 is 0.9424329946251416\n",
      "R2 score correspond to random state  27 is 0.8856490812490011\n",
      "R2 score correspond to random state  27 is 0.12548209286800838\n",
      "R2 score correspond to random state  27 is 0.9348034769680442\n",
      "R2 score correspond to random state  27 is 0.9345311280634684\n",
      "R2 score correspond to random state  27 is 0.9405103887324684\n",
      "R2 score correspond to random state  28 is 0.890185524676735\n",
      "R2 score correspond to random state  28 is 0.1083428629635923\n",
      "R2 score correspond to random state  28 is 0.9430261152392037\n",
      "R2 score correspond to random state  28 is 0.9427636150286097\n",
      "R2 score correspond to random state  28 is 0.9474709729291858\n",
      "R2 score correspond to random state  29 is 0.8884475935607763\n",
      "R2 score correspond to random state  29 is 0.12700541752051842\n",
      "R2 score correspond to random state  29 is 0.9408821434930056\n",
      "R2 score correspond to random state  29 is 0.9403856793670939\n",
      "R2 score correspond to random state  29 is 0.9454928469203078\n",
      "R2 score correspond to random state  30 is 0.8949787170555322\n",
      "R2 score correspond to random state  30 is 0.12519051329003172\n",
      "R2 score correspond to random state  30 is 0.9427869401925545\n",
      "R2 score correspond to random state  30 is 0.9421660643541565\n",
      "R2 score correspond to random state  30 is 0.9464035055821944\n",
      "R2 score correspond to random state  31 is 0.8956890831516621\n",
      "R2 score correspond to random state  31 is 0.12802051217760702\n",
      "R2 score correspond to random state  31 is 0.9352889746153344\n",
      "R2 score correspond to random state  31 is 0.935020210553007\n",
      "R2 score correspond to random state  31 is 0.9411538151481584\n",
      "R2 score correspond to random state  32 is 0.8816411879925585\n",
      "R2 score correspond to random state  32 is 0.10952579576003496\n",
      "R2 score correspond to random state  32 is 0.9329576549980693\n",
      "R2 score correspond to random state  32 is 0.9330456034283446\n",
      "R2 score correspond to random state  32 is 0.9393115100077536\n",
      "R2 score correspond to random state  33 is 0.8914890043059919\n",
      "R2 score correspond to random state  33 is 0.11272656092354871\n",
      "R2 score correspond to random state  33 is 0.9350282059878519\n",
      "R2 score correspond to random state  33 is 0.9340825223071362\n",
      "R2 score correspond to random state  33 is 0.9392470480684005\n",
      "R2 score correspond to random state  34 is 0.9004407182356479\n",
      "R2 score correspond to random state  34 is 0.10563688124952153\n",
      "R2 score correspond to random state  34 is 0.9380494965938598\n",
      "R2 score correspond to random state  34 is 0.937566817330269\n",
      "R2 score correspond to random state  34 is 0.9432226792404594\n",
      "R2 score correspond to random state  35 is 0.8881144342799185\n",
      "R2 score correspond to random state  35 is 0.11925854029230565\n",
      "R2 score correspond to random state  35 is 0.9340165186865065\n",
      "R2 score correspond to random state  35 is 0.9331939534121572\n",
      "R2 score correspond to random state  35 is 0.9387393386431582\n",
      "R2 score correspond to random state  36 is 0.8845918439426054\n",
      "R2 score correspond to random state  36 is 0.1195781362987377\n",
      "R2 score correspond to random state  36 is 0.9372957155631879\n",
      "R2 score correspond to random state  36 is 0.9368475286077854\n",
      "R2 score correspond to random state  36 is 0.9427042352729881\n",
      "R2 score correspond to random state  37 is 0.8935198716105044\n",
      "R2 score correspond to random state  37 is 0.12543922414115238\n",
      "R2 score correspond to random state  37 is 0.9399860389198821\n",
      "R2 score correspond to random state  37 is 0.9390558703703225\n",
      "R2 score correspond to random state  37 is 0.9452725493385855\n",
      "R2 score correspond to random state  38 is 0.8858570593573354\n",
      "R2 score correspond to random state  38 is 0.12346566240057533\n",
      "R2 score correspond to random state  38 is 0.9381669767644328\n",
      "R2 score correspond to random state  38 is 0.9378819490698737\n",
      "R2 score correspond to random state  38 is 0.9420465579371481\n",
      "R2 score correspond to random state  39 is 0.8880610455984009\n",
      "R2 score correspond to random state  39 is 0.1097041149868927\n",
      "R2 score correspond to random state  39 is 0.94101004760616\n",
      "R2 score correspond to random state  39 is 0.9401907337864056\n",
      "R2 score correspond to random state  39 is 0.9451745641235252\n",
      "R2 score correspond to random state  40 is 0.8948531487535467\n",
      "R2 score correspond to random state  40 is 0.11699218853246784\n",
      "R2 score correspond to random state  40 is 0.9430704462013751\n",
      "R2 score correspond to random state  40 is 0.9430400277068055\n",
      "R2 score correspond to random state  40 is 0.9473302906812822\n",
      "R2 score correspond to random state  41 is 0.8903966027036947\n",
      "R2 score correspond to random state  41 is 0.12505344822797526\n",
      "R2 score correspond to random state  41 is 0.9364421419431369\n",
      "R2 score correspond to random state  41 is 0.9363790741397262\n",
      "R2 score correspond to random state  41 is 0.9418207612343354\n",
      "R2 score correspond to random state  42 is 0.8889302503549307\n",
      "R2 score correspond to random state  42 is 0.11499623482808785\n",
      "R2 score correspond to random state  42 is 0.9379520627056939\n",
      "R2 score correspond to random state  42 is 0.9373456836457308\n",
      "R2 score correspond to random state  42 is 0.9425939360075462\n",
      "R2 score correspond to random state  43 is 0.8864822208939349\n",
      "R2 score correspond to random state  43 is 0.1045034036196385\n",
      "R2 score correspond to random state  43 is 0.9346710563750048\n",
      "R2 score correspond to random state  43 is 0.9344705292584891\n",
      "R2 score correspond to random state  43 is 0.9401207348769215\n",
      "R2 score correspond to random state  44 is 0.8915893640219379\n",
      "R2 score correspond to random state  44 is 0.11963234416057289\n",
      "R2 score correspond to random state  44 is 0.9349700861143745\n",
      "R2 score correspond to random state  44 is 0.9350605212425888\n",
      "R2 score correspond to random state  44 is 0.9405333895546965\n",
      "R2 score correspond to random state  45 is 0.886443382489791\n",
      "R2 score correspond to random state  45 is 0.11912595620277044\n",
      "R2 score correspond to random state  45 is 0.9384539400282247\n",
      "R2 score correspond to random state  45 is 0.9381315069226047\n",
      "R2 score correspond to random state  45 is 0.9433910280853\n",
      "R2 score correspond to random state  46 is 0.8888598128180717\n",
      "R2 score correspond to random state  46 is 0.11188391241226825\n",
      "R2 score correspond to random state  46 is 0.9400236843915988\n",
      "R2 score correspond to random state  46 is 0.9394841354675763\n",
      "R2 score correspond to random state  46 is 0.9450433660148896\n",
      "R2 score correspond to random state  47 is 0.8828186442214949\n",
      "R2 score correspond to random state  47 is 0.1130160672036139\n",
      "R2 score correspond to random state  47 is 0.9360689039116061\n",
      "R2 score correspond to random state  47 is 0.9354851557589475\n",
      "R2 score correspond to random state  47 is 0.9412428372198927\n",
      "R2 score correspond to random state  48 is 0.8807893453765931\n",
      "R2 score correspond to random state  48 is 0.11170859755401019\n",
      "R2 score correspond to random state  48 is 0.9346632501795653\n",
      "R2 score correspond to random state  48 is 0.934248425951444\n",
      "R2 score correspond to random state  48 is 0.9397216729808013\n",
      "R2 score correspond to random state  49 is 0.8897443842458039\n",
      "R2 score correspond to random state  49 is 0.11441970367866061\n",
      "R2 score correspond to random state  49 is 0.9391046212260511\n",
      "R2 score correspond to random state  49 is 0.9390728305516162\n",
      "R2 score correspond to random state  49 is 0.9440028521043483\n",
      "R2 score correspond to random state  50 is 0.8985145245257984\n",
      "R2 score correspond to random state  50 is 0.11572322370145649\n",
      "R2 score correspond to random state  50 is 0.9422412250942968\n",
      "R2 score correspond to random state  50 is 0.9425777936555959\n",
      "R2 score correspond to random state  50 is 0.9466864888230537\n",
      "R2 score correspond to random state  51 is 0.8922297313836404\n",
      "R2 score correspond to random state  51 is 0.11914192392175837\n",
      "R2 score correspond to random state  51 is 0.9409306062838323\n",
      "R2 score correspond to random state  51 is 0.9412447805799897\n",
      "R2 score correspond to random state  51 is 0.9458331463962414\n",
      "R2 score correspond to random state  52 is 0.8816532172843776\n",
      "R2 score correspond to random state  52 is 0.10760393874767038\n",
      "R2 score correspond to random state  52 is 0.9325067424027107\n",
      "R2 score correspond to random state  52 is 0.9316841925745933\n",
      "R2 score correspond to random state  52 is 0.9385365228620682\n",
      "R2 score correspond to random state  53 is 0.8904288650410451\n",
      "R2 score correspond to random state  53 is 0.10690343069768038\n",
      "R2 score correspond to random state  53 is 0.9347208128797831\n",
      "R2 score correspond to random state  53 is 0.934080451227751\n",
      "R2 score correspond to random state  53 is 0.9407765886127946\n",
      "R2 score correspond to random state  54 is 0.8959714300673183\n",
      "R2 score correspond to random state  54 is 0.11170551653272187\n",
      "R2 score correspond to random state  54 is 0.9396023601781871\n",
      "R2 score correspond to random state  54 is 0.938960752410523\n",
      "R2 score correspond to random state  54 is 0.9448910579038877\n",
      "R2 score correspond to random state  55 is 0.8839575738588896\n",
      "R2 score correspond to random state  55 is 0.0977777113237639\n",
      "R2 score correspond to random state  55 is 0.9351547900090146\n",
      "R2 score correspond to random state  55 is 0.9345068813490074\n",
      "R2 score correspond to random state  55 is 0.940577223355249\n",
      "R2 score correspond to random state  56 is 0.8844501961950788\n",
      "R2 score correspond to random state  56 is 0.12930244745264974\n",
      "R2 score correspond to random state  56 is 0.9328399771499976\n",
      "R2 score correspond to random state  56 is 0.933176544347448\n",
      "R2 score correspond to random state  56 is 0.9387347061246636\n",
      "R2 score correspond to random state  57 is 0.8851413337381481\n",
      "R2 score correspond to random state  57 is 0.11948558495030326\n",
      "R2 score correspond to random state  57 is 0.9323460404178167\n",
      "R2 score correspond to random state  57 is 0.9316974649470402\n",
      "R2 score correspond to random state  57 is 0.9368541816913568\n",
      "R2 score correspond to random state  58 is 0.8848304122432323\n",
      "R2 score correspond to random state  58 is 0.11103664373707578\n",
      "R2 score correspond to random state  58 is 0.9341110494507483\n",
      "R2 score correspond to random state  58 is 0.9331583853398846\n",
      "R2 score correspond to random state  58 is 0.9380362167827467\n",
      "R2 score correspond to random state  59 is 0.8933296349099367\n",
      "R2 score correspond to random state  59 is 0.11508668960496748\n",
      "R2 score correspond to random state  59 is 0.9372639916292527\n",
      "R2 score correspond to random state  59 is 0.9381776076921752\n",
      "R2 score correspond to random state  59 is 0.9433075350809191\n",
      "R2 score correspond to random state  60 is 0.8924790996895652\n",
      "R2 score correspond to random state  60 is 0.12884177215145465\n",
      "R2 score correspond to random state  60 is 0.9348805860441717\n",
      "R2 score correspond to random state  60 is 0.9352217548438184\n",
      "R2 score correspond to random state  60 is 0.9409514573502538\n",
      "R2 score correspond to random state  61 is 0.8939908840474394\n",
      "R2 score correspond to random state  61 is 0.11755716527010973\n",
      "R2 score correspond to random state  61 is 0.9366144100991198\n",
      "R2 score correspond to random state  61 is 0.9370079899616119\n",
      "R2 score correspond to random state  61 is 0.9409731766797857\n",
      "R2 score correspond to random state  62 is 0.8945636015117855\n",
      "R2 score correspond to random state  62 is 0.10703757466725683\n",
      "R2 score correspond to random state  62 is 0.9381953440105123\n",
      "R2 score correspond to random state  62 is 0.9382639726774749\n",
      "R2 score correspond to random state  62 is 0.9430487214269732\n",
      "R2 score correspond to random state  63 is 0.8846201326530935\n",
      "R2 score correspond to random state  63 is 0.11854626695723391\n",
      "R2 score correspond to random state  63 is 0.9322594883514588\n",
      "R2 score correspond to random state  63 is 0.9323112203751015\n",
      "R2 score correspond to random state  63 is 0.9384860711222448\n",
      "R2 score correspond to random state  64 is 0.8954452774133538\n",
      "R2 score correspond to random state  64 is 0.11855216887619657\n",
      "R2 score correspond to random state  64 is 0.9388148264163322\n",
      "R2 score correspond to random state  64 is 0.9379224942688095\n",
      "R2 score correspond to random state  64 is 0.9437333119020848\n",
      "R2 score correspond to random state  65 is 0.8832175507625526\n",
      "R2 score correspond to random state  65 is 0.11384614745912858\n",
      "R2 score correspond to random state  65 is 0.9321811632657384\n",
      "R2 score correspond to random state  65 is 0.931687632943407\n",
      "R2 score correspond to random state  65 is 0.9374662260558884\n",
      "R2 score correspond to random state  66 is 0.8875112972067745\n",
      "R2 score correspond to random state  66 is 0.11746296448129911\n",
      "R2 score correspond to random state  66 is 0.9419519498935999\n",
      "R2 score correspond to random state  66 is 0.9419499350934641\n",
      "R2 score correspond to random state  66 is 0.9467109882457478\n",
      "R2 score correspond to random state  67 is 0.8992428660509192\n",
      "R2 score correspond to random state  67 is 0.11343462995764664\n",
      "R2 score correspond to random state  67 is 0.9390368881863431\n",
      "R2 score correspond to random state  67 is 0.9383786425366321\n",
      "R2 score correspond to random state  67 is 0.9431173570758314\n",
      "R2 score correspond to random state  68 is 0.8904354340906965\n",
      "R2 score correspond to random state  68 is 0.10885031165398751\n",
      "R2 score correspond to random state  68 is 0.9374592857489965\n",
      "R2 score correspond to random state  68 is 0.9368623808793152\n",
      "R2 score correspond to random state  68 is 0.942751566781179\n",
      "R2 score correspond to random state  69 is 0.8819235648641675\n",
      "R2 score correspond to random state  69 is 0.11458417172810331\n",
      "R2 score correspond to random state  69 is 0.9366611124504944\n",
      "R2 score correspond to random state  69 is 0.9364034057939\n",
      "R2 score correspond to random state  69 is 0.9409667136648456\n",
      "R2 score correspond to random state  70 is 0.8853110396688695\n",
      "R2 score correspond to random state  70 is 0.12081354492827545\n",
      "R2 score correspond to random state  70 is 0.9444110810886871\n",
      "R2 score correspond to random state  70 is 0.9444164536170216\n",
      "R2 score correspond to random state  70 is 0.9489085007545783\n",
      "R2 score correspond to random state  71 is 0.8961373982647309\n",
      "R2 score correspond to random state  71 is 0.1305808339840029\n",
      "R2 score correspond to random state  71 is 0.9350989614192244\n",
      "R2 score correspond to random state  71 is 0.9351554103528681\n",
      "R2 score correspond to random state  71 is 0.9408997833702872\n",
      "R2 score correspond to random state  72 is 0.8876193970706285\n",
      "R2 score correspond to random state  72 is 0.12427415167287326\n",
      "R2 score correspond to random state  72 is 0.9392745727411951\n",
      "R2 score correspond to random state  72 is 0.9385510085565676\n",
      "R2 score correspond to random state  72 is 0.9440045903432855\n",
      "R2 score correspond to random state  73 is 0.8901915600829486\n",
      "R2 score correspond to random state  73 is 0.1152388024086175\n",
      "R2 score correspond to random state  73 is 0.9383601293891018\n",
      "R2 score correspond to random state  73 is 0.9382730931107666\n",
      "R2 score correspond to random state  73 is 0.9439370101586158\n",
      "R2 score correspond to random state  74 is 0.8907313814302561\n",
      "R2 score correspond to random state  74 is 0.11151404808245846\n",
      "R2 score correspond to random state  74 is 0.942077049003231\n",
      "R2 score correspond to random state  74 is 0.941997397134319\n",
      "R2 score correspond to random state  74 is 0.9467064537728618\n",
      "R2 score correspond to random state  75 is 0.8814958585547303\n",
      "R2 score correspond to random state  75 is 0.10593738402398256\n",
      "R2 score correspond to random state  75 is 0.9355181174919441\n",
      "R2 score correspond to random state  75 is 0.9351323797129635\n",
      "R2 score correspond to random state  75 is 0.9410581722784871\n",
      "R2 score correspond to random state  76 is 0.8924512256632164\n",
      "R2 score correspond to random state  76 is 0.1223901175693779\n",
      "R2 score correspond to random state  76 is 0.9384266474126108\n",
      "R2 score correspond to random state  76 is 0.9378128515644328\n",
      "R2 score correspond to random state  76 is 0.9430684148403227\n",
      "R2 score correspond to random state  77 is 0.8851194214735465\n",
      "R2 score correspond to random state  77 is 0.11468626505784152\n",
      "R2 score correspond to random state  77 is 0.9336007108522638\n",
      "R2 score correspond to random state  77 is 0.9338452996959627\n",
      "R2 score correspond to random state  77 is 0.9397275693496251\n",
      "R2 score correspond to random state  78 is 0.8930586989178\n",
      "R2 score correspond to random state  78 is 0.11890034918534476\n",
      "R2 score correspond to random state  78 is 0.9349165203159295\n",
      "R2 score correspond to random state  78 is 0.9338581582606332\n",
      "R2 score correspond to random state  78 is 0.9405894337132542\n",
      "R2 score correspond to random state  79 is 0.8773899022453894\n",
      "R2 score correspond to random state  79 is 0.11934762206276894\n",
      "R2 score correspond to random state  79 is 0.9341288814774463\n",
      "R2 score correspond to random state  79 is 0.9340154199796307\n",
      "R2 score correspond to random state  79 is 0.9409189669094692\n",
      "R2 score correspond to random state  80 is 0.8853254994393677\n",
      "R2 score correspond to random state  80 is 0.12888863889367697\n",
      "R2 score correspond to random state  80 is 0.9422001716116999\n",
      "R2 score correspond to random state  80 is 0.9422043915652181\n",
      "R2 score correspond to random state  80 is 0.947402670202876\n",
      "R2 score correspond to random state  81 is 0.8948922802307167\n",
      "R2 score correspond to random state  81 is 0.10642362897791469\n",
      "R2 score correspond to random state  81 is 0.9396645070710022\n",
      "R2 score correspond to random state  81 is 0.9393585674210356\n",
      "R2 score correspond to random state  81 is 0.9449167245421827\n",
      "R2 score correspond to random state  82 is 0.8908810995682103\n",
      "R2 score correspond to random state  82 is 0.11152290954274124\n",
      "R2 score correspond to random state  82 is 0.9361099422225911\n",
      "R2 score correspond to random state  82 is 0.9362547193442858\n",
      "R2 score correspond to random state  82 is 0.942117233748815\n",
      "R2 score correspond to random state  83 is 0.8840591066559916\n",
      "R2 score correspond to random state  83 is 0.10991656128304228\n",
      "R2 score correspond to random state  83 is 0.9365553440243497\n",
      "R2 score correspond to random state  83 is 0.9375060499023354\n",
      "R2 score correspond to random state  83 is 0.9427696425477838\n",
      "R2 score correspond to random state  84 is 0.8871438818726533\n",
      "R2 score correspond to random state  84 is 0.11064472127906066\n",
      "R2 score correspond to random state  84 is 0.937815638377911\n",
      "R2 score correspond to random state  84 is 0.938228714091353\n",
      "R2 score correspond to random state  84 is 0.9442204500863248\n",
      "R2 score correspond to random state  85 is 0.8884407212404144\n",
      "R2 score correspond to random state  85 is 0.1100396124312133\n",
      "R2 score correspond to random state  85 is 0.9345979919836989\n",
      "R2 score correspond to random state  85 is 0.934266469426303\n",
      "R2 score correspond to random state  85 is 0.940041621975657\n",
      "R2 score correspond to random state  86 is 0.8953822088031609\n",
      "R2 score correspond to random state  86 is 0.11923844845732379\n",
      "R2 score correspond to random state  86 is 0.9413562655561621\n",
      "R2 score correspond to random state  86 is 0.94112323666975\n",
      "R2 score correspond to random state  86 is 0.9458537904319941\n",
      "R2 score correspond to random state  87 is 0.8869669121677346\n",
      "R2 score correspond to random state  87 is 0.12421485100628094\n",
      "R2 score correspond to random state  87 is 0.9347888102331596\n",
      "R2 score correspond to random state  87 is 0.9347732832561725\n",
      "R2 score correspond to random state  87 is 0.9390135776694174\n",
      "R2 score correspond to random state  88 is 0.8908704537317516\n",
      "R2 score correspond to random state  88 is 0.11609347112768476\n",
      "R2 score correspond to random state  88 is 0.9390810199320994\n",
      "R2 score correspond to random state  88 is 0.9384682183081966\n",
      "R2 score correspond to random state  88 is 0.9431644560033823\n",
      "R2 score correspond to random state  89 is 0.8859358495402921\n",
      "R2 score correspond to random state  89 is 0.12447702396356364\n",
      "R2 score correspond to random state  89 is 0.9393302295203949\n",
      "R2 score correspond to random state  89 is 0.9391076323428359\n",
      "R2 score correspond to random state  89 is 0.9440394837858385\n",
      "R2 score correspond to random state  90 is 0.8903130489678569\n",
      "R2 score correspond to random state  90 is 0.1223230909973474\n",
      "R2 score correspond to random state  90 is 0.9412515855685468\n",
      "R2 score correspond to random state  90 is 0.9411251814765581\n",
      "R2 score correspond to random state  90 is 0.9453839587198056\n",
      "R2 score correspond to random state  91 is 0.8919905042647687\n",
      "R2 score correspond to random state  91 is 0.11467506740787192\n",
      "R2 score correspond to random state  91 is 0.9369265256982634\n",
      "R2 score correspond to random state  91 is 0.9360346741676695\n",
      "R2 score correspond to random state  91 is 0.9407897578999694\n",
      "R2 score correspond to random state  92 is 0.8801179475621667\n",
      "R2 score correspond to random state  92 is 0.12259590907735263\n",
      "R2 score correspond to random state  92 is 0.9389919720363643\n",
      "R2 score correspond to random state  92 is 0.9386624699335309\n",
      "R2 score correspond to random state  92 is 0.9425976917107719\n",
      "R2 score correspond to random state  93 is 0.8893207476569545\n",
      "R2 score correspond to random state  93 is 0.1132752259422074\n",
      "R2 score correspond to random state  93 is 0.934627102771204\n",
      "R2 score correspond to random state  93 is 0.9341593123502868\n",
      "R2 score correspond to random state  93 is 0.9401928452780994\n",
      "R2 score correspond to random state  94 is 0.8837632275492631\n",
      "R2 score correspond to random state  94 is 0.1037650219484566\n",
      "R2 score correspond to random state  94 is 0.9357248772281079\n",
      "R2 score correspond to random state  94 is 0.9356829170236547\n",
      "R2 score correspond to random state  94 is 0.9416393757776154\n",
      "R2 score correspond to random state  95 is 0.8873189115715802\n",
      "R2 score correspond to random state  95 is 0.11216969328672488\n",
      "R2 score correspond to random state  95 is 0.9358144166719304\n",
      "R2 score correspond to random state  95 is 0.9353552988110813\n",
      "R2 score correspond to random state  95 is 0.9409216420904873\n",
      "R2 score correspond to random state  96 is 0.8963497848102954\n",
      "R2 score correspond to random state  96 is 0.10380365704092331\n",
      "R2 score correspond to random state  96 is 0.941657264212282\n",
      "R2 score correspond to random state  96 is 0.9413894539790942\n",
      "R2 score correspond to random state  96 is 0.9458430714786641\n",
      "R2 score correspond to random state  97 is 0.8939299915787647\n",
      "R2 score correspond to random state  97 is 0.12392234187398021\n",
      "R2 score correspond to random state  97 is 0.9378166133155523\n",
      "R2 score correspond to random state  97 is 0.9370978619942096\n",
      "R2 score correspond to random state  97 is 0.9427557221444546\n",
      "R2 score correspond to random state  98 is 0.8912992539907431\n",
      "R2 score correspond to random state  98 is 0.1255870433802012\n",
      "R2 score correspond to random state  98 is 0.9370332124950239\n",
      "R2 score correspond to random state  98 is 0.936707548864184\n",
      "R2 score correspond to random state  98 is 0.9412595948390408\n",
      "R2 score correspond to random state  99 is 0.8860178616659579\n",
      "R2 score correspond to random state  99 is 0.10797274587409722\n",
      "R2 score correspond to random state  99 is 0.9365242590001608\n",
      "R2 score correspond to random state  99 is 0.936360197352472\n",
      "R2 score correspond to random state  99 is 0.9412901148005866\n",
      "\n",
      "\n",
      "\n",
      "\n",
      "max R2 score correspond to random state  70 is 0.9489085007545783 and model is GradientBoostingRegressor()\n"
     ]
    }
   ],
   "source": [
    "#Now by using multiple Algorithms we are calculating the best Algo which suit best for our data set \n",
    "\n",
    "model = [DecisionTreeRegressor(),KNeighborsRegressor(),AdaBoostRegressor(),LinearRegression(),GradientBoostingRegressor()]\n",
    "max_r2_score = 0\n",
    "for r_state in range(1,100):\n",
    "    train_x,test_x,train_y,test_y = train_test_split(x,y,random_state = r_state,test_size = 0.24)\n",
    "    for i in model:\n",
    "        i.fit(train_x,train_y)\n",
    "        pre = i.predict(test_x)\n",
    "        r2_sc = r2_score(test_y,pre)\n",
    "        print(\"R2 score correspond to random state \" ,r_state ,\"is\", r2_sc)\n",
    "        if r2_sc> max_r2_score:\n",
    "            max_r2_score=r2_sc\n",
    "            final_state = r_state\n",
    "            final_model = i\n",
    "            \n",
    "print()\n",
    "print()\n",
    "print()\n",
    "print()\n",
    "print(\"max R2 score correspond to random state \" ,final_state , \"is\" , max_r2_score ,\"and model is\",final_model)\n",
    "        "
   ]
  },
  {
   "cell_type": "code",
   "execution_count": 52,
   "id": "c25899ca",
   "metadata": {},
   "outputs": [
    {
     "name": "stdout",
     "output_type": "stream",
     "text": [
      "R2 Score : 94.12901148005865\n"
     ]
    }
   ],
   "source": [
    "gbr = GradientBoostingRegressor()\n",
    "gbr.fit(train_x,train_y)\n",
    "pred = gbr.predict(test_x)\n",
    "r2_sc = r2_score(test_y,pred)\n",
    "print(\"R2 Score :\",r2_sc*100)"
   ]
  },
  {
   "cell_type": "code",
   "execution_count": 53,
   "id": "cad847d1",
   "metadata": {
    "scrolled": false
   },
   "outputs": [
    {
     "data": {
      "text/plain": [
       "Text(0, 0.5, 'predicted_malignant')"
      ]
     },
     "execution_count": 53,
     "metadata": {},
     "output_type": "execute_result"
    },
    {
     "data": {
      "image/png": "[encoded data removed]",
      "text/plain": [
       "<Figure size 432x288 with 1 Axes>"
      ]
     },
     "metadata": {
      "needs_background": "light"
     },
     "output_type": "display_data"
    }
   ],
   "source": [
    "#checking the diff between actual and predicted value using graph\n",
    "plt.scatter(x=test_y,y=pred)\n",
    "plt.xlabel('malignant')\n",
    "plt.ylabel('predicted_malignant')"
   ]
  },
  {
   "cell_type": "markdown",
   "id": "ce3f3520",
   "metadata": {},
   "source": [
    "# saving model"
   ]
  },
  {
   "cell_type": "code",
   "execution_count": 54,
   "id": "3e86ce75",
   "metadata": {},
   "outputs": [],
   "source": [
    "import pickle"
   ]
  },
  {
   "cell_type": "code",
   "execution_count": 55,
   "id": "a2b3a357",
   "metadata": {},
   "outputs": [],
   "source": [
    "#saving model to the local file system\n",
    "filename='malignant_comment_classifier.pickle'\n",
    "pickle.dump(gbr,open(filename,'wb'))"
   ]
  },
  {
   "cell_type": "code",
   "execution_count": 56,
   "id": "8336157c",
   "metadata": {},
   "outputs": [
    {
     "data": {
      "text/plain": [
       "'malignant_comment_classifier.pickle'"
      ]
     },
     "execution_count": 56,
     "metadata": {},
     "output_type": "execute_result"
    }
   ],
   "source": [
    "filename"
   ]
  },
  {
   "cell_type": "markdown",
   "id": "08dba62b",
   "metadata": {},
   "source": [
    "# cross validation"
   ]
  },
  {
   "cell_type": "code",
   "execution_count": 57,
   "id": "ea115e15",
   "metadata": {},
   "outputs": [],
   "source": [
    "from sklearn.model_selection import cross_val_score"
   ]
  },
  {
   "cell_type": "code",
   "execution_count": 58,
   "id": "ca248eef",
   "metadata": {},
   "outputs": [
    {
     "name": "stdout",
     "output_type": "stream",
     "text": [
      "GradientBoostingRegressor() 0.9420471766662655\n",
      "GradientBoostingRegressor() 0.9428206223948165\n",
      "GradientBoostingRegressor() 0.9424446765968846\n",
      "GradientBoostingRegressor() 0.9425840735830862\n",
      "GradientBoostingRegressor() 0.9426183994283427\n",
      "GradientBoostingRegressor() 0.9426492880953853\n",
      "GradientBoostingRegressor() 0.9426805382721519\n",
      "GradientBoostingRegressor() 0.9426630218819506\n"
     ]
    }
   ],
   "source": [
    "for i in range(2,10):\n",
    "    cv=cross_val_score(gbr,x,y,cv=i)\n",
    "    print(gbr,cv.mean())\n"
   ]
  },
  {
   "cell_type": "code",
   "execution_count": 59,
   "id": "568c0f2b",
   "metadata": {},
   "outputs": [
    {
     "data": {
      "text/plain": [
       "array([[-0.10048119, -0.23644972, -0.05481361, ..., -0.09425005,\n",
       "        -0.12302597, -0.33643376],\n",
       "       [-0.10048119, -0.23644972, -0.05481361, ..., -0.09425005,\n",
       "        -0.23067979, -0.33643376],\n",
       "       [-0.10048119, -0.23644972, -0.05481361, ..., -0.09425005,\n",
       "         0.04677178, -0.33643376],\n",
       "       ...,\n",
       "       [-0.10048119, -0.23644972, -0.05481361, ..., -0.09425005,\n",
       "         1.09230324, -0.33643376],\n",
       "       [-0.10048119, -0.23644972, -0.05481361, ..., -0.09425005,\n",
       "        -0.44405222, -0.33643376],\n",
       "       [-0.10048119, -0.23644972, -0.05481361, ..., -0.09425005,\n",
       "        -1.05694622, -0.33643376]])"
      ]
     },
     "execution_count": 59,
     "metadata": {},
     "output_type": "execute_result"
    }
   ],
   "source": [
    "scalar=StandardScaler()\n",
    "x_scaled=scalar.fit_transform(x)\n",
    "x_scaled"
   ]
  },
  {
   "cell_type": "code",
   "execution_count": 60,
   "id": "6d6c213d",
   "metadata": {},
   "outputs": [],
   "source": [
    "x_train,x_test,y_train,y_test=train_test_split(x_scaled,y,test_size=0.24,random_state=70)"
   ]
  },
  {
   "cell_type": "code",
   "execution_count": 61,
   "id": "385d65d0",
   "metadata": {},
   "outputs": [
    {
     "data": {
      "text/plain": [
       "array([0., 0., 0., ..., 0., 0., 0.])"
      ]
     },
     "execution_count": 61,
     "metadata": {},
     "output_type": "execute_result"
    }
   ],
   "source": [
    "#lets plot and visualize\n",
    "y_pred=dt.predict(x_test)\n",
    "y_pred"
   ]
  },
  {
   "cell_type": "code",
   "execution_count": 62,
   "id": "efece2f3",
   "metadata": {},
   "outputs": [],
   "source": [
    "from sklearn.model_selection import GridSearchCV\n",
    "from sklearn.model_selection import cross_val_score\n",
    "import warnings\n",
    "from sklearn.linear_model import Lasso\n",
    "warnings.filterwarnings('ignore')"
   ]
  },
  {
   "cell_type": "code",
   "execution_count": 63,
   "id": "02381384",
   "metadata": {},
   "outputs": [
    {
     "name": "stdout",
     "output_type": "stream",
     "text": [
      "{'alpha': 0.0001, 'random_state': 0}\n"
     ]
    }
   ],
   "source": [
    "parameters={'alpha':[.0001,0.001,.01,.1,1,10],'random_state':list(range(0,30))}\n",
    "ls=Lasso()\n",
    "clf=GridSearchCV(ls,parameters)\n",
    "clf.fit(x_train,y_train)\n",
    "print(clf.best_params_)"
   ]
  },
  {
   "cell_type": "code",
   "execution_count": 64,
   "id": "b02893f1",
   "metadata": {},
   "outputs": [],
   "source": [
    "from sklearn.metrics import r2_score"
   ]
  },
  {
   "cell_type": "code",
   "execution_count": 65,
   "id": "8994d2e2",
   "metadata": {},
   "outputs": [
    {
     "data": {
      "text/plain": [
       "0.9444120333281292"
      ]
     },
     "execution_count": 65,
     "metadata": {},
     "output_type": "execute_result"
    }
   ],
   "source": [
    "ls=Lasso(alpha=0.0001,random_state=0)\n",
    "ls.fit(x_train,y_train)\n",
    "ls.score(x_train,y_train)\n",
    "pred_ls=ls.predict(x_test)\n",
    "lss=r2_score(y_test,pred_ls)\n",
    "lss"
   ]
  }
 ],
 "metadata": {
  "kernelspec": {
   "display_name": "Python 3",
   "language": "python",
   "name": "python3"
  },
  "language_info": {
   "codemirror_mode": {
    "name": "ipython",
    "version": 3
   },
   "file_extension": ".py",
   "mimetype": "text/x-python",
   "name": "python",
   "nbconvert_exporter": "python",
   "pygments_lexer": "ipython3",
   "version": "3.8.8"
  }
 },
 "nbformat": 4,
 "nbformat_minor": 5
}
